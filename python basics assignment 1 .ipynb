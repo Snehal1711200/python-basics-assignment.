{
 "cells": [
  {
   "cell_type": "code",
   "execution_count": null,
   "id": "9b32346e-8b4f-482d-9c09-a558ff5e09c1",
   "metadata": {},
   "outputs": [],
   "source": [
    "#python basics variable"
   ]
  },
  {
   "cell_type": "code",
   "execution_count": 1,
   "id": "316e18ff-3e88-4c7d-8130-937ca319267e",
   "metadata": {},
   "outputs": [
    {
     "name": "stdout",
     "output_type": "stream",
     "text": [
      "a= 12\n",
      "b= 23\n"
     ]
    }
   ],
   "source": [
    "a = 23\n",
    "b = 12\n",
    "# swap the values of variable without using temporary variable\n",
    "a = a + b\n",
    "b = a - b\n",
    "a = a - b\n",
    "\n",
    "print('a=' , a)\n",
    "print('b=' , b)"
   ]
  },
  {
   "cell_type": "code",
   "execution_count": 6,
   "id": "28494d3e-7be2-43b1-bbde-b08cb3e472cf",
   "metadata": {},
   "outputs": [],
   "source": [
    "def area_of_triangle():\n",
    "    l = int(input('enter length of triangle'))\n",
    "    w = int(input('enter width of triangle'))\n",
    "    # calculate area of triangle\n",
    "    area = (1/2)*l* w\n",
    "    print(area)"
   ]
  },
  {
   "cell_type": "code",
   "execution_count": 7,
   "id": "bee7fe15-d605-4087-844e-cde7d5e90696",
   "metadata": {},
   "outputs": [
    {
     "name": "stdin",
     "output_type": "stream",
     "text": [
      "enter length of triangle 4\n",
      "enter width of triangle 3\n"
     ]
    },
    {
     "name": "stdout",
     "output_type": "stream",
     "text": [
      "6.0\n"
     ]
    }
   ],
   "source": [
    "area_of_triangle()"
   ]
  },
  {
   "cell_type": "code",
   "execution_count": 8,
   "id": "8533b9f2-0fc1-4a81-8409-910b52c10047",
   "metadata": {},
   "outputs": [],
   "source": [
    "def convert_temp():\n",
    "    temp = int(input('enter temp here'))\n",
    "    # convert temp in degree celcious to fahrenheit\n",
    "    F = (temp * 9/5) + 32\n",
    "    print(F)"
   ]
  },
  {
   "cell_type": "code",
   "execution_count": 9,
   "id": "dc8c42cc-df48-42ba-9a6e-6a93b16c1d8a",
   "metadata": {},
   "outputs": [
    {
     "name": "stdin",
     "output_type": "stream",
     "text": [
      "enter temp here 37\n"
     ]
    },
    {
     "name": "stdout",
     "output_type": "stream",
     "text": [
      "98.6\n"
     ]
    }
   ],
   "source": [
    "convert_temp()"
   ]
  },
  {
   "cell_type": "code",
   "execution_count": 10,
   "id": "7c2414bc-16e3-4092-93d6-9afcbccac282",
   "metadata": {},
   "outputs": [],
   "source": [
    "# string based questions"
   ]
  },
  {
   "cell_type": "code",
   "execution_count": 12,
   "id": "bf537346-9a36-4f9d-a603-4622cca1b8e0",
   "metadata": {},
   "outputs": [],
   "source": [
    "def len_of_string():\n",
    "    string = input('enter string here')\n",
    "    len_string = len(string)\n",
    "    return len_string"
   ]
  },
  {
   "cell_type": "code",
   "execution_count": 13,
   "id": "2dc3f4c7-a6d4-4bb4-880f-ae1e4bf098de",
   "metadata": {},
   "outputs": [
    {
     "name": "stdin",
     "output_type": "stream",
     "text": [
      "enter string here sdfghjk\n"
     ]
    },
    {
     "data": {
      "text/plain": [
       "7"
      ]
     },
     "execution_count": 13,
     "metadata": {},
     "output_type": "execute_result"
    }
   ],
   "source": [
    "len_of_string()"
   ]
  },
  {
   "cell_type": "code",
   "execution_count": 2,
   "id": "da3f2223-64e7-45d9-b0e4-480727b99006",
   "metadata": {},
   "outputs": [],
   "source": [
    "def count_vowels():\n",
    "    string = input('enter string here')\n",
    "    vowels = ['a', 'e', 'i', 'o', 'u','A', 'E','I','O','U']\n",
    "    count = 0\n",
    "    for char in string:\n",
    "        if char in vowels:\n",
    "            count =count + 1\n",
    "    return count        "
   ]
  },
  {
   "cell_type": "code",
   "execution_count": 3,
   "id": "ea980c79-827d-439f-9f30-dfeaa7d05fcc",
   "metadata": {},
   "outputs": [
    {
     "name": "stdin",
     "output_type": "stream",
     "text": [
      "enter string here sdfghoai\n"
     ]
    },
    {
     "data": {
      "text/plain": [
       "3"
      ]
     },
     "execution_count": 3,
     "metadata": {},
     "output_type": "execute_result"
    }
   ],
   "source": [
    "count_vowels()"
   ]
  },
  {
   "cell_type": "code",
   "execution_count": 24,
   "id": "2233ab5b-c73e-4c6d-a431-ac09d44dec2c",
   "metadata": {},
   "outputs": [],
   "source": [
    "def reverse_string(s):\n",
    "    \n",
    "    a = s[::-1]\n",
    "    print(a)"
   ]
  },
  {
   "cell_type": "code",
   "execution_count": 25,
   "id": "70a85660-c34e-4abf-a1d7-c791c58b6872",
   "metadata": {},
   "outputs": [
    {
     "name": "stdout",
     "output_type": "stream",
     "text": [
      "lahens\n"
     ]
    }
   ],
   "source": [
    "reverse_string('snehal')"
   ]
  },
  {
   "cell_type": "code",
   "execution_count": 26,
   "id": "1857613e-9339-43b8-997f-2373318f5dd3",
   "metadata": {},
   "outputs": [
    {
     "name": "stdin",
     "output_type": "stream",
     "text": [
      "enter string here:  Race Car\n"
     ]
    },
    {
     "data": {
      "text/plain": [
       "True"
      ]
     },
     "execution_count": 26,
     "metadata": {},
     "output_type": "execute_result"
    }
   ],
   "source": [
    "def check_pallindrome():\n",
    "    string__ = input('enter string here: ')\n",
    "    string = string__.replace(' ' , '').lower()\n",
    "    if string == string[::-1] :\n",
    "        return True\n",
    "    else:\n",
    "        return False\n",
    "    \n",
    "check_pallindrome()"
   ]
  },
  {
   "cell_type": "code",
   "execution_count": 1,
   "id": "62b4113f-3a90-4e26-b413-ec094b6cdae0",
   "metadata": {},
   "outputs": [
    {
     "name": "stdin",
     "output_type": "stream",
     "text": [
      "enter string here sdfg ghjk\n"
     ]
    },
    {
     "name": "stdout",
     "output_type": "stream",
     "text": [
      "sdfgghjk\n"
     ]
    }
   ],
   "source": [
    "def remove_space():\n",
    "    string = input('enter string here')\n",
    "    output = string.replace(' ','')\n",
    "    print(output)\n",
    "    \n",
    "remove_space()"
   ]
  },
  {
   "cell_type": "code",
   "execution_count": null,
   "id": "66e93588-cba2-4205-b810-a0de0b4daf2e",
   "metadata": {},
   "outputs": [],
   "source": []
  }
 ],
 "metadata": {
  "kernelspec": {
   "display_name": "Python 3 (ipykernel)",
   "language": "python",
   "name": "python3"
  },
  "language_info": {
   "codemirror_mode": {
    "name": "ipython",
    "version": 3
   },
   "file_extension": ".py",
   "mimetype": "text/x-python",
   "name": "python",
   "nbconvert_exporter": "python",
   "pygments_lexer": "ipython3",
   "version": "3.10.8"
  }
 },
 "nbformat": 4,
 "nbformat_minor": 5
}
